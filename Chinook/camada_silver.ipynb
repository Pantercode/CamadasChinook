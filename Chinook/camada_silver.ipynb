{
 "cells": [
  {
   "cell_type": "code",
   "execution_count": 142,
   "metadata": {},
   "outputs": [],
   "source": [
    "import os\n",
    "import logging\n",
    "import pandas as pd\n",
    "import pandas_gbq\n",
    "from google.cloud import bigquery\n",
    "from google.oauth2 import service_account"
   ]
  },
  {
   "cell_type": "code",
   "execution_count": 143,
   "metadata": {},
   "outputs": [
    {
     "name": "stderr",
     "output_type": "stream",
     "text": [
      "INFO:root:Carregando dados da camada Bronze...\n"
     ]
    },
    {
     "name": "stderr",
     "output_type": "stream",
     "text": [
      "C:\\Users\\marcell.oliveira\\AppData\\Local\\Packages\\PythonSoftwareFoundation.Python.3.12_qbz5n2kfra8p0\\LocalCache\\local-packages\\Python312\\site-packages\\google\\cloud\\bigquery\\table.py:1727: UserWarning: BigQuery Storage module not found, fetch data with the REST endpoint instead.\n",
      "  warnings.warn(\n"
     ]
    }
   ],
   "source": [
    "# Configurar logging\n",
    "logging.basicConfig(level=logging.INFO)\n",
    "\n",
    "# Configurar chave de autenticação\n",
    "os.environ[\"GOOGLE_APPLICATION_CREDENTIALS\"] = r\"C:\\Users\\marcell.oliveira\\Desktop\\Chinook\\sincere-actor-393814-8209ed1b42a4.json\"\n",
    "# Definir credenciais \n",
    "credentials = service_account.Credentials.from_service_account_file(r\"C:\\Users\\marcell.oliveira\\Desktop\\Chinook\\sincere-actor-393814-8209ed1b42a4.json\")\n",
    "# Conectar ao BigQuery\n",
    "client = bigquery.Client()\n",
    "\n",
    "# Carregar dados da camada bronze\n",
    "logging.info(\"Carregando dados da camada Bronze...\")\n",
    "query = \"SELECT * FROM camada_bronze.Album\"\n",
    "df_Album_bronze = client.query(query).to_dataframe()"
   ]
  },
  {
   "cell_type": "code",
   "execution_count": 144,
   "metadata": {},
   "outputs": [
    {
     "name": "stdout",
     "output_type": "stream",
     "text": [
      "<class 'pandas.core.frame.DataFrame'>\n",
      "RangeIndex: 347 entries, 0 to 346\n",
      "Data columns (total 3 columns):\n",
      " #   Column    Non-Null Count  Dtype \n",
      "---  ------    --------------  ----- \n",
      " 0   AlbumId   347 non-null    Int64 \n",
      " 1   Title     347 non-null    object\n",
      " 2   ArtistId  347 non-null    Int64 \n",
      "dtypes: Int64(2), object(1)\n",
      "memory usage: 8.9+ KB\n"
     ]
    }
   ],
   "source": [
    "df_Album_bronze.info()"
   ]
  },
  {
   "cell_type": "code",
   "execution_count": 145,
   "metadata": {},
   "outputs": [
    {
     "data": {
      "text/plain": [
       "AlbumId     False\n",
       "Title       False\n",
       "ArtistId    False\n",
       "dtype: bool"
      ]
     },
     "execution_count": 145,
     "metadata": {},
     "output_type": "execute_result"
    }
   ],
   "source": [
    "df_Album_bronze.sum().isnull()"
   ]
  },
  {
   "cell_type": "code",
   "execution_count": 146,
   "metadata": {},
   "outputs": [
    {
     "data": {
      "text/html": [
       "<div>\n",
       "<style scoped>\n",
       "    .dataframe tbody tr th:only-of-type {\n",
       "        vertical-align: middle;\n",
       "    }\n",
       "\n",
       "    .dataframe tbody tr th {\n",
       "        vertical-align: top;\n",
       "    }\n",
       "\n",
       "    .dataframe thead th {\n",
       "        text-align: right;\n",
       "    }\n",
       "</style>\n",
       "<table border=\"1\" class=\"dataframe\">\n",
       "  <thead>\n",
       "    <tr style=\"text-align: right;\">\n",
       "      <th></th>\n",
       "      <th>AlbumId</th>\n",
       "      <th>Title</th>\n",
       "      <th>ArtistId</th>\n",
       "    </tr>\n",
       "  </thead>\n",
       "  <tbody>\n",
       "    <tr>\n",
       "      <th>0</th>\n",
       "      <td>326</td>\n",
       "      <td>Mendelssohn: A Midsummer Night's Dream</td>\n",
       "      <td>256</td>\n",
       "    </tr>\n",
       "    <tr>\n",
       "      <th>1</th>\n",
       "      <td>1</td>\n",
       "      <td>For Those About To Rock We Salute You</td>\n",
       "      <td>1</td>\n",
       "    </tr>\n",
       "    <tr>\n",
       "      <th>2</th>\n",
       "      <td>4</td>\n",
       "      <td>Let There Be Rock</td>\n",
       "      <td>1</td>\n",
       "    </tr>\n",
       "    <tr>\n",
       "      <th>3</th>\n",
       "      <td>327</td>\n",
       "      <td>Bach: Orchestral Suites Nos. 1 - 4</td>\n",
       "      <td>257</td>\n",
       "    </tr>\n",
       "    <tr>\n",
       "      <th>4</th>\n",
       "      <td>2</td>\n",
       "      <td>Balls to the Wall</td>\n",
       "      <td>2</td>\n",
       "    </tr>\n",
       "    <tr>\n",
       "      <th>...</th>\n",
       "      <td>...</td>\n",
       "      <td>...</td>\n",
       "      <td>...</td>\n",
       "    </tr>\n",
       "    <tr>\n",
       "      <th>342</th>\n",
       "      <td>321</td>\n",
       "      <td>Back to Black</td>\n",
       "      <td>252</td>\n",
       "    </tr>\n",
       "    <tr>\n",
       "      <th>343</th>\n",
       "      <td>322</td>\n",
       "      <td>Frank</td>\n",
       "      <td>252</td>\n",
       "    </tr>\n",
       "    <tr>\n",
       "      <th>344</th>\n",
       "      <td>323</td>\n",
       "      <td>Carried to Dust (Bonus Track Version)</td>\n",
       "      <td>253</td>\n",
       "    </tr>\n",
       "    <tr>\n",
       "      <th>345</th>\n",
       "      <td>324</td>\n",
       "      <td>Beethoven: Symphony No. 6 'Pastoral' Etc.</td>\n",
       "      <td>254</td>\n",
       "    </tr>\n",
       "    <tr>\n",
       "      <th>346</th>\n",
       "      <td>325</td>\n",
       "      <td>Bartok: Violin &amp; Viola Concertos</td>\n",
       "      <td>255</td>\n",
       "    </tr>\n",
       "  </tbody>\n",
       "</table>\n",
       "<p>347 rows × 3 columns</p>\n",
       "</div>"
      ],
      "text/plain": [
       "     AlbumId                                      Title  ArtistId\n",
       "0        326     Mendelssohn: A Midsummer Night's Dream       256\n",
       "1          1      For Those About To Rock We Salute You         1\n",
       "2          4                          Let There Be Rock         1\n",
       "3        327         Bach: Orchestral Suites Nos. 1 - 4       257\n",
       "4          2                          Balls to the Wall         2\n",
       "..       ...                                        ...       ...\n",
       "342      321                              Back to Black       252\n",
       "343      322                                      Frank       252\n",
       "344      323      Carried to Dust (Bonus Track Version)       253\n",
       "345      324  Beethoven: Symphony No. 6 'Pastoral' Etc.       254\n",
       "346      325           Bartok: Violin & Viola Concertos       255\n",
       "\n",
       "[347 rows x 3 columns]"
      ]
     },
     "execution_count": 146,
     "metadata": {},
     "output_type": "execute_result"
    }
   ],
   "source": [
    "df_Album_bronze"
   ]
  },
  {
   "cell_type": "code",
   "execution_count": 147,
   "metadata": {},
   "outputs": [
    {
     "name": "stderr",
     "output_type": "stream",
     "text": [
      "INFO:root:Preparando para enviar à camada Silver...\n",
      "C:\\Users\\marcell.oliveira\\AppData\\Local\\Temp\\ipykernel_18924\\226429929.py:4: FutureWarning: to_gbq is deprecated and will be removed in a future version. Please use pandas_gbq.to_gbq instead: https://pandas-gbq.readthedocs.io/en/latest/api.html#pandas_gbq.to_gbq\n",
      "  df_Album_bronze.to_gbq(\n",
      "347 out of 347 rows loaded.\n",
      "INFO:root:Dados enviados com sucesso para a camada Silver.\n"
     ]
    }
   ],
   "source": [
    "# Configurar carregamento para a camada Silver\n",
    "logging.info(\"Preparando para enviar à camada Silver...\")\n",
    "try:\n",
    "    df_Album_bronze.to_gbq(\n",
    "        destination_table=\"sincere-actor-393814.camada_silver.Album\",\n",
    "        credentials=credentials,\n",
    "        if_exists=\"replace\"  # Substituir tabela existente\n",
    "    )\n",
    "    logging.info(\"Dados enviados com sucesso para a camada Silver.\")\n",
    "except Exception as e:\n",
    "    logging.error(f\"Erro ao processar os dados: {e}\")\n"
   ]
  },
  {
   "cell_type": "code",
   "execution_count": 148,
   "metadata": {},
   "outputs": [
    {
     "name": "stderr",
     "output_type": "stream",
     "text": [
      "INFO:root:Carregando dados da camada Bronze...\n",
      "C:\\Users\\marcell.oliveira\\AppData\\Local\\Packages\\PythonSoftwareFoundation.Python.3.12_qbz5n2kfra8p0\\LocalCache\\local-packages\\Python312\\site-packages\\google\\cloud\\bigquery\\table.py:1727: UserWarning: BigQuery Storage module not found, fetch data with the REST endpoint instead.\n",
      "  warnings.warn(\n"
     ]
    }
   ],
   "source": [
    "# Carregar dados da camada bronze\n",
    "logging.info(\"Carregando dados da camada Bronze...\")\n",
    "query = \"SELECT * FROM camada_bronze.Artist\"\n",
    "df_Artist_bronze = client.query(query).to_dataframe()"
   ]
  },
  {
   "cell_type": "code",
   "execution_count": 149,
   "metadata": {},
   "outputs": [
    {
     "name": "stdout",
     "output_type": "stream",
     "text": [
      "<class 'pandas.core.frame.DataFrame'>\n",
      "RangeIndex: 275 entries, 0 to 274\n",
      "Data columns (total 2 columns):\n",
      " #   Column    Non-Null Count  Dtype \n",
      "---  ------    --------------  ----- \n",
      " 0   ArtistId  275 non-null    Int64 \n",
      " 1   Name      275 non-null    object\n",
      "dtypes: Int64(1), object(1)\n",
      "memory usage: 4.7+ KB\n"
     ]
    }
   ],
   "source": [
    "df_Artist_bronze.info()"
   ]
  },
  {
   "cell_type": "code",
   "execution_count": 150,
   "metadata": {},
   "outputs": [
    {
     "name": "stderr",
     "output_type": "stream",
     "text": [
      "INFO:root:Preparando para enviar à camada Silver...\n",
      "C:\\Users\\marcell.oliveira\\AppData\\Local\\Temp\\ipykernel_18924\\1869810708.py:4: FutureWarning: to_gbq is deprecated and will be removed in a future version. Please use pandas_gbq.to_gbq instead: https://pandas-gbq.readthedocs.io/en/latest/api.html#pandas_gbq.to_gbq\n",
      "  df_Artist_bronze.to_gbq(\n",
      "275 out of 275 rows loaded.\n",
      "INFO:root:Dados enviados com sucesso para a camada Silver.\n"
     ]
    }
   ],
   "source": [
    "# Configurar carregamento para a camada Silver\n",
    "logging.info(\"Preparando para enviar à camada Silver...\")\n",
    "try:\n",
    "    df_Artist_bronze.to_gbq(\n",
    "        destination_table=\"sincere-actor-393814.camada_silver.Artist\",\n",
    "        credentials=credentials,\n",
    "        if_exists=\"replace\"  # Substituir tabela existente\n",
    "    )\n",
    "    logging.info(\"Dados enviados com sucesso para a camada Silver.\")\n",
    "except Exception as e:\n",
    "    logging.error(f\"Erro ao processar os dados: {e}\")"
   ]
  },
  {
   "cell_type": "code",
   "execution_count": 151,
   "metadata": {},
   "outputs": [
    {
     "name": "stderr",
     "output_type": "stream",
     "text": [
      "INFO:root:Carregando dados da camada Bronze...\n",
      "C:\\Users\\marcell.oliveira\\AppData\\Local\\Packages\\PythonSoftwareFoundation.Python.3.12_qbz5n2kfra8p0\\LocalCache\\local-packages\\Python312\\site-packages\\google\\cloud\\bigquery\\table.py:1727: UserWarning: BigQuery Storage module not found, fetch data with the REST endpoint instead.\n",
      "  warnings.warn(\n"
     ]
    }
   ],
   "source": [
    "# Carregar dados da camada bronze\n",
    "logging.info(\"Carregando dados da camada Bronze...\")\n",
    "query = \"SELECT * FROM camada_bronze.Customer\"\n",
    "df_Customer_bronze = client.query(query).to_dataframe()"
   ]
  },
  {
   "cell_type": "code",
   "execution_count": 152,
   "metadata": {},
   "outputs": [
    {
     "name": "stdout",
     "output_type": "stream",
     "text": [
      "<class 'pandas.core.frame.DataFrame'>\n",
      "RangeIndex: 59 entries, 0 to 58\n",
      "Data columns (total 13 columns):\n",
      " #   Column        Non-Null Count  Dtype \n",
      "---  ------        --------------  ----- \n",
      " 0   CustomerId    59 non-null     Int64 \n",
      " 1   FirstName     59 non-null     object\n",
      " 2   LastName      59 non-null     object\n",
      " 3   Company       10 non-null     object\n",
      " 4   Address       59 non-null     object\n",
      " 5   City          59 non-null     object\n",
      " 6   State         30 non-null     object\n",
      " 7   Country       59 non-null     object\n",
      " 8   PostalCode    55 non-null     object\n",
      " 9   Phone         58 non-null     object\n",
      " 10  Fax           12 non-null     object\n",
      " 11  Email         59 non-null     object\n",
      " 12  SupportRepId  59 non-null     Int64 \n",
      "dtypes: Int64(2), object(11)\n",
      "memory usage: 6.2+ KB\n"
     ]
    }
   ],
   "source": [
    "df_Customer_bronze.info()"
   ]
  },
  {
   "cell_type": "code",
   "execution_count": 153,
   "metadata": {},
   "outputs": [],
   "source": [
    "df_Customer_bronze['Company'] = df_Customer_bronze['Company'].fillna('Não Informado')\n",
    "df_Customer_bronze['Fax'] = df_Customer_bronze['Fax'].fillna('+55(00)0000-0000')\n",
    "df_Customer_bronze['State'] = df_Customer_bronze['State'].fillna('N/I')\n",
    "df_Customer_bronze['PostalCode'] = df_Customer_bronze['PostalCode'].fillna('N/I')\n",
    "df_Customer_bronze['Phone'] = df_Customer_bronze['Phone'].fillna('+55(00)0000-0000')"
   ]
  },
  {
   "cell_type": "code",
   "execution_count": 154,
   "metadata": {},
   "outputs": [
    {
     "name": "stdout",
     "output_type": "stream",
     "text": [
      "<class 'pandas.core.frame.DataFrame'>\n",
      "RangeIndex: 59 entries, 0 to 58\n",
      "Data columns (total 13 columns):\n",
      " #   Column        Non-Null Count  Dtype \n",
      "---  ------        --------------  ----- \n",
      " 0   CustomerId    59 non-null     Int64 \n",
      " 1   FirstName     59 non-null     object\n",
      " 2   LastName      59 non-null     object\n",
      " 3   Company       59 non-null     object\n",
      " 4   Address       59 non-null     object\n",
      " 5   City          59 non-null     object\n",
      " 6   State         59 non-null     object\n",
      " 7   Country       59 non-null     object\n",
      " 8   PostalCode    59 non-null     object\n",
      " 9   Phone         59 non-null     object\n",
      " 10  Fax           59 non-null     object\n",
      " 11  Email         59 non-null     object\n",
      " 12  SupportRepId  59 non-null     Int64 \n",
      "dtypes: Int64(2), object(11)\n",
      "memory usage: 6.2+ KB\n"
     ]
    }
   ],
   "source": [
    "df_Customer_bronze.info()"
   ]
  },
  {
   "cell_type": "code",
   "execution_count": 155,
   "metadata": {},
   "outputs": [
    {
     "name": "stderr",
     "output_type": "stream",
     "text": [
      "INFO:root:Preparando para enviar à camada Silver...\n",
      "C:\\Users\\marcell.oliveira\\AppData\\Local\\Temp\\ipykernel_18924\\1024832128.py:4: FutureWarning: to_gbq is deprecated and will be removed in a future version. Please use pandas_gbq.to_gbq instead: https://pandas-gbq.readthedocs.io/en/latest/api.html#pandas_gbq.to_gbq\n",
      "  df_Customer_bronze.to_gbq(\n",
      "59 out of 59 rows loaded.\n",
      "INFO:root:Dados enviados com sucesso para a camada Silver.\n"
     ]
    }
   ],
   "source": [
    "# Configurar carregamento para a camada Silver\n",
    "logging.info(\"Preparando para enviar à camada Silver...\")\n",
    "try:\n",
    "    df_Customer_bronze.to_gbq(\n",
    "        destination_table=\"sincere-actor-393814.camada_silver.Customer\",\n",
    "        credentials=credentials,\n",
    "        if_exists=\"replace\"  # Substituir tabela existente\n",
    "    )\n",
    "    logging.info(\"Dados enviados com sucesso para a camada Silver.\")\n",
    "except Exception as e:\n",
    "    logging.error(f\"Erro ao processar os dados: {e}\")"
   ]
  },
  {
   "cell_type": "code",
   "execution_count": 156,
   "metadata": {},
   "outputs": [
    {
     "name": "stderr",
     "output_type": "stream",
     "text": [
      "INFO:root:Carregando dados da camada Bronze...\n",
      "C:\\Users\\marcell.oliveira\\AppData\\Local\\Packages\\PythonSoftwareFoundation.Python.3.12_qbz5n2kfra8p0\\LocalCache\\local-packages\\Python312\\site-packages\\google\\cloud\\bigquery\\table.py:1727: UserWarning: BigQuery Storage module not found, fetch data with the REST endpoint instead.\n",
      "  warnings.warn(\n"
     ]
    }
   ],
   "source": [
    "# Carregar dados da camada bronze\n",
    "logging.info(\"Carregando dados da camada Bronze...\")\n",
    "query = \"SELECT * FROM camada_bronze.Employee\"\n",
    "df_Employee_bronze = client.query(query).to_dataframe()"
   ]
  },
  {
   "cell_type": "code",
   "execution_count": 157,
   "metadata": {},
   "outputs": [
    {
     "name": "stdout",
     "output_type": "stream",
     "text": [
      "<class 'pandas.core.frame.DataFrame'>\n",
      "RangeIndex: 8 entries, 0 to 7\n",
      "Data columns (total 15 columns):\n",
      " #   Column      Non-Null Count  Dtype  \n",
      "---  ------      --------------  -----  \n",
      " 0   EmployeeId  8 non-null      Int64  \n",
      " 1   LastName    8 non-null      object \n",
      " 2   FirstName   8 non-null      object \n",
      " 3   Title       8 non-null      object \n",
      " 4   ReportsTo   7 non-null      float64\n",
      " 5   BirthDate   8 non-null      object \n",
      " 6   HireDate    8 non-null      object \n",
      " 7   Address     8 non-null      object \n",
      " 8   City        8 non-null      object \n",
      " 9   State       8 non-null      object \n",
      " 10  Country     8 non-null      object \n",
      " 11  PostalCode  8 non-null      object \n",
      " 12  Phone       8 non-null      object \n",
      " 13  Fax         8 non-null      object \n",
      " 14  Email       8 non-null      object \n",
      "dtypes: Int64(1), float64(1), object(13)\n",
      "memory usage: 1.1+ KB\n"
     ]
    }
   ],
   "source": [
    "df_Employee_bronze.info()"
   ]
  },
  {
   "cell_type": "code",
   "execution_count": 158,
   "metadata": {},
   "outputs": [],
   "source": [
    "df_Employee_bronze['ReportsTo'] = df_Employee_bronze['ReportsTo'].fillna(0.0)"
   ]
  },
  {
   "cell_type": "code",
   "execution_count": 159,
   "metadata": {},
   "outputs": [
    {
     "name": "stderr",
     "output_type": "stream",
     "text": [
      "INFO:root:Preparando para enviar à camada Silver...\n",
      "8 out of 8 rows loaded.\n",
      "INFO:root:Dados enviados com sucesso para a camada Silver.\n"
     ]
    }
   ],
   "source": [
    "# Configurar carregamento para a camada Silver\n",
    "logging.info(\"Preparando para enviar à camada Silver...\")\n",
    "\n",
    "try:\n",
    "    # Verifique se `ReportsTo` está no formato float e sem valores incompatíveis\n",
    "    if df_Employee_bronze['ReportsTo'].dtype != 'float64':\n",
    "        df_Employee_bronze['ReportsTo'] = df_Employee_bronze['ReportsTo'].astype('float64')\n",
    "    \n",
    "    # Verifique outras colunas e transforme valores nulos, se necessário\n",
    "    df_Employee_bronze = df_Employee_bronze.where(pd.notnull(df_Employee_bronze), None)\n",
    "\n",
    "    # Enviar para o BigQuery usando `pandas_gbq.to_gbq`\n",
    "    pandas_gbq.to_gbq(\n",
    "        df_Employee_bronze,\n",
    "        destination_table=\"sincere-actor-393814.camada_silver.Employee\",\n",
    "        credentials=credentials,\n",
    "        if_exists=\"replace\"  # Substituir tabela existente\n",
    "    )\n",
    "    logging.info(\"Dados enviados com sucesso para a camada Silver.\")\n",
    "except Exception as e:\n",
    "    logging.error(f\"Erro ao processar os dados: {e}\")\n"
   ]
  },
  {
   "cell_type": "code",
   "execution_count": 160,
   "metadata": {},
   "outputs": [
    {
     "name": "stderr",
     "output_type": "stream",
     "text": [
      "INFO:root:Carregando dados da camada Bronze...\n",
      "C:\\Users\\marcell.oliveira\\AppData\\Local\\Packages\\PythonSoftwareFoundation.Python.3.12_qbz5n2kfra8p0\\LocalCache\\local-packages\\Python312\\site-packages\\google\\cloud\\bigquery\\table.py:1727: UserWarning: BigQuery Storage module not found, fetch data with the REST endpoint instead.\n",
      "  warnings.warn(\n"
     ]
    }
   ],
   "source": [
    "# Carregar dados da camada bronze\n",
    "logging.info(\"Carregando dados da camada Bronze...\")\n",
    "query = \"SELECT * FROM camada_bronze.Genre\"\n",
    "df_Genre_bronze = client.query(query).to_dataframe()"
   ]
  },
  {
   "cell_type": "code",
   "execution_count": 161,
   "metadata": {},
   "outputs": [
    {
     "name": "stdout",
     "output_type": "stream",
     "text": [
      "<class 'pandas.core.frame.DataFrame'>\n",
      "RangeIndex: 25 entries, 0 to 24\n",
      "Data columns (total 2 columns):\n",
      " #   Column   Non-Null Count  Dtype \n",
      "---  ------   --------------  ----- \n",
      " 0   GenreId  25 non-null     Int64 \n",
      " 1   Name     25 non-null     object\n",
      "dtypes: Int64(1), object(1)\n",
      "memory usage: 557.0+ bytes\n"
     ]
    }
   ],
   "source": [
    "df_Genre_bronze.info()"
   ]
  },
  {
   "cell_type": "code",
   "execution_count": 162,
   "metadata": {},
   "outputs": [
    {
     "name": "stderr",
     "output_type": "stream",
     "text": [
      "INFO:root:Preparando para enviar à camada Silver...\n",
      "C:\\Users\\marcell.oliveira\\AppData\\Local\\Temp\\ipykernel_18924\\1010429183.py:4: FutureWarning: to_gbq is deprecated and will be removed in a future version. Please use pandas_gbq.to_gbq instead: https://pandas-gbq.readthedocs.io/en/latest/api.html#pandas_gbq.to_gbq\n",
      "  df_Genre_bronze.to_gbq(\n",
      "25 out of 25 rows loaded.\n",
      "INFO:root:Dados enviados com sucesso para a camada Silver.\n"
     ]
    }
   ],
   "source": [
    "# Configurar carregamento para a camada Silver\n",
    "logging.info(\"Preparando para enviar à camada Silver...\")\n",
    "try:\n",
    "    df_Genre_bronze.to_gbq(\n",
    "        destination_table=\"sincere-actor-393814.camada_silver.Genre\",\n",
    "        credentials=credentials,\n",
    "        if_exists=\"replace\"  # Substituir tabela existente\n",
    "    )\n",
    "    logging.info(\"Dados enviados com sucesso para a camada Silver.\")\n",
    "except Exception as e:\n",
    "    logging.error(f\"Erro ao processar os dados: {e}\")"
   ]
  },
  {
   "cell_type": "code",
   "execution_count": 163,
   "metadata": {},
   "outputs": [
    {
     "name": "stderr",
     "output_type": "stream",
     "text": [
      "INFO:root:Carregando dados da camada Bronze...\n",
      "C:\\Users\\marcell.oliveira\\AppData\\Local\\Packages\\PythonSoftwareFoundation.Python.3.12_qbz5n2kfra8p0\\LocalCache\\local-packages\\Python312\\site-packages\\google\\cloud\\bigquery\\table.py:1727: UserWarning: BigQuery Storage module not found, fetch data with the REST endpoint instead.\n",
      "  warnings.warn(\n"
     ]
    }
   ],
   "source": [
    "# Carregar dados da camada bronze\n",
    "logging.info(\"Carregando dados da camada Bronze...\")\n",
    "query = \"SELECT * FROM camada_bronze.Invoice\"\n",
    "df_Invoice_bronze = client.query(query).to_dataframe()"
   ]
  },
  {
   "cell_type": "code",
   "execution_count": 164,
   "metadata": {},
   "outputs": [
    {
     "name": "stdout",
     "output_type": "stream",
     "text": [
      "<class 'pandas.core.frame.DataFrame'>\n",
      "RangeIndex: 412 entries, 0 to 411\n",
      "Data columns (total 9 columns):\n",
      " #   Column             Non-Null Count  Dtype  \n",
      "---  ------             --------------  -----  \n",
      " 0   InvoiceId          412 non-null    Int64  \n",
      " 1   CustomerId         412 non-null    Int64  \n",
      " 2   InvoiceDate        412 non-null    object \n",
      " 3   BillingAddress     412 non-null    object \n",
      " 4   BillingCity        412 non-null    object \n",
      " 5   BillingState       210 non-null    object \n",
      " 6   BillingCountry     412 non-null    object \n",
      " 7   BillingPostalCode  384 non-null    object \n",
      " 8   Total              412 non-null    float64\n",
      "dtypes: Int64(2), float64(1), object(6)\n",
      "memory usage: 29.9+ KB\n"
     ]
    }
   ],
   "source": [
    "df_Invoice_bronze.info()"
   ]
  },
  {
   "cell_type": "code",
   "execution_count": 165,
   "metadata": {},
   "outputs": [],
   "source": [
    "df_Invoice_bronze['BillingState'] = df_Invoice_bronze['BillingState'].fillna('N/I')\n",
    "df_Invoice_bronze['BillingPostalCode'] = df_Invoice_bronze['BillingPostalCode'].fillna('00000-0000')"
   ]
  },
  {
   "cell_type": "code",
   "execution_count": 166,
   "metadata": {},
   "outputs": [
    {
     "name": "stderr",
     "output_type": "stream",
     "text": [
      "INFO:root:Preparando para enviar à camada Silver...\n",
      "C:\\Users\\marcell.oliveira\\AppData\\Local\\Temp\\ipykernel_18924\\1502050929.py:4: FutureWarning: to_gbq is deprecated and will be removed in a future version. Please use pandas_gbq.to_gbq instead: https://pandas-gbq.readthedocs.io/en/latest/api.html#pandas_gbq.to_gbq\n",
      "  df_Invoice_bronze.to_gbq(\n",
      "412 out of 412 rows loaded.\n",
      "INFO:root:Dados enviados com sucesso para a camada Silver.\n"
     ]
    }
   ],
   "source": [
    "# Configurar carregamento para a camada Silver\n",
    "logging.info(\"Preparando para enviar à camada Silver...\")\n",
    "try:\n",
    "    df_Invoice_bronze.to_gbq(\n",
    "        destination_table=\"sincere-actor-393814.camada_silver.Invoice\",\n",
    "        credentials=credentials,\n",
    "        if_exists=\"replace\"  # Substituir tabela existente\n",
    "    )\n",
    "    logging.info(\"Dados enviados com sucesso para a camada Silver.\")\n",
    "except Exception as e:\n",
    "    logging.error(f\"Erro ao processar os dados: {e}\")"
   ]
  },
  {
   "cell_type": "code",
   "execution_count": 167,
   "metadata": {},
   "outputs": [
    {
     "name": "stderr",
     "output_type": "stream",
     "text": [
      "INFO:root:Carregando dados da camada Bronze...\n",
      "C:\\Users\\marcell.oliveira\\AppData\\Local\\Packages\\PythonSoftwareFoundation.Python.3.12_qbz5n2kfra8p0\\LocalCache\\local-packages\\Python312\\site-packages\\google\\cloud\\bigquery\\table.py:1727: UserWarning: BigQuery Storage module not found, fetch data with the REST endpoint instead.\n",
      "  warnings.warn(\n"
     ]
    }
   ],
   "source": [
    "# Carregar dados da camada bronze\n",
    "logging.info(\"Carregando dados da camada Bronze...\")\n",
    "query = \"SELECT * FROM camada_bronze.InvoiceLine\"\n",
    "df_InvoiceLine_bronze = client.query(query).to_dataframe()"
   ]
  },
  {
   "cell_type": "code",
   "execution_count": 168,
   "metadata": {},
   "outputs": [
    {
     "name": "stdout",
     "output_type": "stream",
     "text": [
      "<class 'pandas.core.frame.DataFrame'>\n",
      "RangeIndex: 2240 entries, 0 to 2239\n",
      "Data columns (total 5 columns):\n",
      " #   Column         Non-Null Count  Dtype  \n",
      "---  ------         --------------  -----  \n",
      " 0   InvoiceLineId  2240 non-null   Int64  \n",
      " 1   InvoiceId      2240 non-null   Int64  \n",
      " 2   TrackId        2240 non-null   Int64  \n",
      " 3   UnitPrice      2240 non-null   float64\n",
      " 4   Quantity       2240 non-null   Int64  \n",
      "dtypes: Int64(4), float64(1)\n",
      "memory usage: 96.4 KB\n"
     ]
    }
   ],
   "source": [
    "df_InvoiceLine_bronze.info()"
   ]
  },
  {
   "cell_type": "code",
   "execution_count": 169,
   "metadata": {},
   "outputs": [
    {
     "name": "stderr",
     "output_type": "stream",
     "text": [
      "INFO:root:Preparando para enviar à camada Silver...\n",
      "C:\\Users\\marcell.oliveira\\AppData\\Local\\Temp\\ipykernel_18924\\2205557211.py:4: FutureWarning: to_gbq is deprecated and will be removed in a future version. Please use pandas_gbq.to_gbq instead: https://pandas-gbq.readthedocs.io/en/latest/api.html#pandas_gbq.to_gbq\n",
      "  df_InvoiceLine_bronze.to_gbq(\n",
      "2240 out of 2240 rows loaded.\n",
      "INFO:root:Dados enviados com sucesso para a camada Silver.\n"
     ]
    }
   ],
   "source": [
    "# Configurar carregamento para a camada Silver\n",
    "logging.info(\"Preparando para enviar à camada Silver...\")\n",
    "try:\n",
    "    df_InvoiceLine_bronze.to_gbq(\n",
    "        destination_table=\"sincere-actor-393814.camada_silver.InvoiceLine\",\n",
    "        credentials=credentials,\n",
    "        if_exists=\"replace\"  # Substituir tabela existente\n",
    "    )\n",
    "    logging.info(\"Dados enviados com sucesso para a camada Silver.\")\n",
    "except Exception as e:\n",
    "    logging.error(f\"Erro ao processar os dados: {e}\")"
   ]
  },
  {
   "cell_type": "code",
   "execution_count": 170,
   "metadata": {},
   "outputs": [
    {
     "name": "stderr",
     "output_type": "stream",
     "text": [
      "INFO:root:Carregando dados da camada Bronze...\n",
      "C:\\Users\\marcell.oliveira\\AppData\\Local\\Packages\\PythonSoftwareFoundation.Python.3.12_qbz5n2kfra8p0\\LocalCache\\local-packages\\Python312\\site-packages\\google\\cloud\\bigquery\\table.py:1727: UserWarning: BigQuery Storage module not found, fetch data with the REST endpoint instead.\n",
      "  warnings.warn(\n"
     ]
    }
   ],
   "source": [
    "# Carregar dados da camada bronze\n",
    "logging.info(\"Carregando dados da camada Bronze...\")\n",
    "query = \"SELECT * FROM camada_bronze.MediaType\"\n",
    "df_MediaType_bronze = client.query(query).to_dataframe()"
   ]
  },
  {
   "cell_type": "code",
   "execution_count": 171,
   "metadata": {},
   "outputs": [
    {
     "name": "stdout",
     "output_type": "stream",
     "text": [
      "<class 'pandas.core.frame.DataFrame'>\n",
      "RangeIndex: 5 entries, 0 to 4\n",
      "Data columns (total 2 columns):\n",
      " #   Column       Non-Null Count  Dtype \n",
      "---  ------       --------------  ----- \n",
      " 0   MediaTypeId  5 non-null      Int64 \n",
      " 1   Name         5 non-null      object\n",
      "dtypes: Int64(1), object(1)\n",
      "memory usage: 217.0+ bytes\n"
     ]
    }
   ],
   "source": [
    "df_MediaType_bronze.info()"
   ]
  },
  {
   "cell_type": "code",
   "execution_count": 172,
   "metadata": {},
   "outputs": [
    {
     "name": "stderr",
     "output_type": "stream",
     "text": [
      "INFO:root:Preparando para enviar à camada Silver...\n",
      "C:\\Users\\marcell.oliveira\\AppData\\Local\\Temp\\ipykernel_18924\\1718275761.py:4: FutureWarning: to_gbq is deprecated and will be removed in a future version. Please use pandas_gbq.to_gbq instead: https://pandas-gbq.readthedocs.io/en/latest/api.html#pandas_gbq.to_gbq\n",
      "  df_MediaType_bronze.to_gbq(\n",
      "5 out of 5 rows loaded.\n",
      "INFO:root:Dados enviados com sucesso para a camada Silver.\n"
     ]
    }
   ],
   "source": [
    "# Configurar carregamento para a camada Silver\n",
    "logging.info(\"Preparando para enviar à camada Silver...\")\n",
    "try:\n",
    "    df_MediaType_bronze.to_gbq(\n",
    "        destination_table=\"sincere-actor-393814.camada_silver.MediaType\",\n",
    "        credentials=credentials,\n",
    "        if_exists=\"replace\"  # Substituir tabela existente\n",
    "    )\n",
    "    logging.info(\"Dados enviados com sucesso para a camada Silver.\")\n",
    "except Exception as e:\n",
    "    logging.error(f\"Erro ao processar os dados: {e}\")"
   ]
  },
  {
   "cell_type": "code",
   "execution_count": 173,
   "metadata": {},
   "outputs": [
    {
     "name": "stderr",
     "output_type": "stream",
     "text": [
      "INFO:root:Carregando dados da camada Bronze...\n",
      "C:\\Users\\marcell.oliveira\\AppData\\Local\\Packages\\PythonSoftwareFoundation.Python.3.12_qbz5n2kfra8p0\\LocalCache\\local-packages\\Python312\\site-packages\\google\\cloud\\bigquery\\table.py:1727: UserWarning: BigQuery Storage module not found, fetch data with the REST endpoint instead.\n",
      "  warnings.warn(\n"
     ]
    }
   ],
   "source": [
    "# Carregar dados da camada bronze\n",
    "logging.info(\"Carregando dados da camada Bronze...\")\n",
    "query = \"SELECT * FROM camada_bronze.Playlist\"\n",
    "df_Playlist_bronze = client.query(query).to_dataframe()"
   ]
  },
  {
   "cell_type": "code",
   "execution_count": 174,
   "metadata": {},
   "outputs": [
    {
     "name": "stdout",
     "output_type": "stream",
     "text": [
      "<class 'pandas.core.frame.DataFrame'>\n",
      "RangeIndex: 18 entries, 0 to 17\n",
      "Data columns (total 2 columns):\n",
      " #   Column      Non-Null Count  Dtype \n",
      "---  ------      --------------  ----- \n",
      " 0   PlaylistId  18 non-null     Int64 \n",
      " 1   Name        18 non-null     object\n",
      "dtypes: Int64(1), object(1)\n",
      "memory usage: 438.0+ bytes\n"
     ]
    }
   ],
   "source": [
    "df_Playlist_bronze.info()"
   ]
  },
  {
   "cell_type": "code",
   "execution_count": 175,
   "metadata": {},
   "outputs": [
    {
     "name": "stderr",
     "output_type": "stream",
     "text": [
      "INFO:root:Preparando para enviar à camada Silver...\n",
      "C:\\Users\\marcell.oliveira\\AppData\\Local\\Temp\\ipykernel_18924\\1885554539.py:4: FutureWarning: to_gbq is deprecated and will be removed in a future version. Please use pandas_gbq.to_gbq instead: https://pandas-gbq.readthedocs.io/en/latest/api.html#pandas_gbq.to_gbq\n",
      "  df_Playlist_bronze.to_gbq(\n",
      "18 out of 18 rows loaded.\n",
      "INFO:root:Dados enviados com sucesso para a camada Silver.\n"
     ]
    }
   ],
   "source": [
    "# Configurar carregamento para a camada Silver\n",
    "logging.info(\"Preparando para enviar à camada Silver...\")\n",
    "try:\n",
    "    df_Playlist_bronze.to_gbq(\n",
    "        destination_table=\"sincere-actor-393814.camada_silver.Playlist\",\n",
    "        credentials=credentials,\n",
    "        if_exists=\"replace\"  # Substituir tabela existente\n",
    "    )\n",
    "    logging.info(\"Dados enviados com sucesso para a camada Silver.\")\n",
    "except Exception as e:\n",
    "    logging.error(f\"Erro ao processar os dados: {e}\")"
   ]
  },
  {
   "cell_type": "code",
   "execution_count": 176,
   "metadata": {},
   "outputs": [
    {
     "name": "stderr",
     "output_type": "stream",
     "text": [
      "INFO:root:Carregando dados da camada Bronze...\n",
      "C:\\Users\\marcell.oliveira\\AppData\\Local\\Packages\\PythonSoftwareFoundation.Python.3.12_qbz5n2kfra8p0\\LocalCache\\local-packages\\Python312\\site-packages\\google\\cloud\\bigquery\\table.py:1727: UserWarning: BigQuery Storage module not found, fetch data with the REST endpoint instead.\n",
      "  warnings.warn(\n"
     ]
    }
   ],
   "source": [
    "# Carregar dados da camada bronze\n",
    "logging.info(\"Carregando dados da camada Bronze...\")\n",
    "query = \"SELECT * FROM camada_bronze.PlaylistTrack\"\n",
    "df_PlaylistTrack_bronze = client.query(query).to_dataframe()"
   ]
  },
  {
   "cell_type": "code",
   "execution_count": 177,
   "metadata": {},
   "outputs": [
    {
     "name": "stdout",
     "output_type": "stream",
     "text": [
      "<class 'pandas.core.frame.DataFrame'>\n",
      "RangeIndex: 8715 entries, 0 to 8714\n",
      "Data columns (total 2 columns):\n",
      " #   Column      Non-Null Count  Dtype\n",
      "---  ------      --------------  -----\n",
      " 0   PlaylistId  8715 non-null   Int64\n",
      " 1   TrackId     8715 non-null   Int64\n",
      "dtypes: Int64(2)\n",
      "memory usage: 153.3 KB\n"
     ]
    }
   ],
   "source": [
    "df_PlaylistTrack_bronze.info()"
   ]
  },
  {
   "cell_type": "code",
   "execution_count": 178,
   "metadata": {},
   "outputs": [
    {
     "name": "stderr",
     "output_type": "stream",
     "text": [
      "INFO:root:Preparando para enviar à camada Silver...\n",
      "C:\\Users\\marcell.oliveira\\AppData\\Local\\Temp\\ipykernel_18924\\3236885355.py:4: FutureWarning: to_gbq is deprecated and will be removed in a future version. Please use pandas_gbq.to_gbq instead: https://pandas-gbq.readthedocs.io/en/latest/api.html#pandas_gbq.to_gbq\n",
      "  df_PlaylistTrack_bronze.to_gbq(\n",
      "8715 out of 8715 rows loaded.\n",
      "INFO:root:Dados enviados com sucesso para a camada Silver.\n"
     ]
    }
   ],
   "source": [
    "# Configurar carregamento para a camada Silver\n",
    "logging.info(\"Preparando para enviar à camada Silver...\")\n",
    "try:\n",
    "    df_PlaylistTrack_bronze.to_gbq(\n",
    "        destination_table=\"sincere-actor-393814.camada_silver.PlaylistTrack\",\n",
    "        credentials=credentials,\n",
    "        if_exists=\"replace\"  # Substituir tabela existente\n",
    "    )\n",
    "    logging.info(\"Dados enviados com sucesso para a camada Silver.\")\n",
    "except Exception as e:\n",
    "    logging.error(f\"Erro ao processar os dados: {e}\")"
   ]
  },
  {
   "cell_type": "code",
   "execution_count": 179,
   "metadata": {},
   "outputs": [
    {
     "name": "stderr",
     "output_type": "stream",
     "text": [
      "INFO:root:Carregando dados da camada Bronze...\n",
      "C:\\Users\\marcell.oliveira\\AppData\\Local\\Packages\\PythonSoftwareFoundation.Python.3.12_qbz5n2kfra8p0\\LocalCache\\local-packages\\Python312\\site-packages\\google\\cloud\\bigquery\\table.py:1727: UserWarning: BigQuery Storage module not found, fetch data with the REST endpoint instead.\n",
      "  warnings.warn(\n"
     ]
    }
   ],
   "source": [
    "# Carregar dados da camada bronze\n",
    "logging.info(\"Carregando dados da camada Bronze...\")\n",
    "query = \"SELECT * FROM camada_bronze.Track\"\n",
    "df_Track_bronze = client.query(query).to_dataframe()"
   ]
  },
  {
   "cell_type": "code",
   "execution_count": 180,
   "metadata": {},
   "outputs": [
    {
     "name": "stdout",
     "output_type": "stream",
     "text": [
      "<class 'pandas.core.frame.DataFrame'>\n",
      "RangeIndex: 3503 entries, 0 to 3502\n",
      "Data columns (total 9 columns):\n",
      " #   Column        Non-Null Count  Dtype  \n",
      "---  ------        --------------  -----  \n",
      " 0   TrackId       3503 non-null   Int64  \n",
      " 1   Name          3503 non-null   object \n",
      " 2   AlbumId       3503 non-null   Int64  \n",
      " 3   MediaTypeId   3503 non-null   Int64  \n",
      " 4   GenreId       3503 non-null   Int64  \n",
      " 5   Composer      2525 non-null   object \n",
      " 6   Milliseconds  3503 non-null   Int64  \n",
      " 7   Bytes         3503 non-null   Int64  \n",
      " 8   UnitPrice     3503 non-null   float64\n",
      "dtypes: Int64(6), float64(1), object(2)\n",
      "memory usage: 267.0+ KB\n"
     ]
    }
   ],
   "source": [
    "df_Track_bronze.info()"
   ]
  },
  {
   "cell_type": "code",
   "execution_count": 181,
   "metadata": {},
   "outputs": [],
   "source": [
    "df_Track_bronze['Composer'] = df_Track_bronze['Composer'].fillna('Não informada')"
   ]
  },
  {
   "cell_type": "code",
   "execution_count": 182,
   "metadata": {},
   "outputs": [
    {
     "name": "stderr",
     "output_type": "stream",
     "text": [
      "INFO:root:Preparando para enviar à camada Silver...\n",
      "C:\\Users\\marcell.oliveira\\AppData\\Local\\Temp\\ipykernel_18924\\2534819064.py:4: FutureWarning: to_gbq is deprecated and will be removed in a future version. Please use pandas_gbq.to_gbq instead: https://pandas-gbq.readthedocs.io/en/latest/api.html#pandas_gbq.to_gbq\n",
      "  df_Track_bronze.to_gbq(\n",
      "3503 out of 3503 rows loaded.\n",
      "INFO:root:Dados enviados com sucesso para a camada Silver.\n"
     ]
    }
   ],
   "source": [
    "# Configurar carregamento para a camada Silver\n",
    "logging.info(\"Preparando para enviar à camada Silver...\")\n",
    "try:\n",
    "    df_Track_bronze.to_gbq(\n",
    "        destination_table=\"sincere-actor-393814.camada_silver.Track\",\n",
    "        credentials=credentials,\n",
    "        if_exists=\"replace\"  # Substituir tabela existente\n",
    "    )\n",
    "    logging.info(\"Dados enviados com sucesso para a camada Silver.\")\n",
    "except Exception as e:\n",
    "    logging.error(f\"Erro ao processar os dados: {e}\")"
   ]
  },
  {
   "cell_type": "code",
   "execution_count": null,
   "metadata": {},
   "outputs": [],
   "source": []
  }
 ],
 "metadata": {
  "kernelspec": {
   "display_name": "Python 3",
   "language": "python",
   "name": "python3"
  },
  "language_info": {
   "codemirror_mode": {
    "name": "ipython",
    "version": 3
   },
   "file_extension": ".py",
   "mimetype": "text/x-python",
   "name": "python",
   "nbconvert_exporter": "python",
   "pygments_lexer": "ipython3",
   "version": "3.12.7"
  }
 },
 "nbformat": 4,
 "nbformat_minor": 2
}
