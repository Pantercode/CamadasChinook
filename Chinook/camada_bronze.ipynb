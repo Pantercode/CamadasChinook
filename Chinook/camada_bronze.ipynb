{
 "cells": [
  {
   "cell_type": "code",
   "execution_count": 70,
   "metadata": {},
   "outputs": [],
   "source": [
    "#! pip install pandas google-cloud-bigquery google-auth"
   ]
  },
  {
   "cell_type": "code",
   "execution_count": 71,
   "metadata": {},
   "outputs": [],
   "source": [
    "#! pip install pandas-gbq"
   ]
  },
  {
   "cell_type": "code",
   "execution_count": 72,
   "metadata": {},
   "outputs": [],
   "source": [
    "# Importando bibliotecas para o projeto\n",
    "import pandas as pd\n",
    "import sqlite3\n",
    "import pandas as pd\n",
    "from google.cloud import bigquery\n",
    "from google.oauth2 import service_account"
   ]
  },
  {
   "cell_type": "code",
   "execution_count": 73,
   "metadata": {},
   "outputs": [],
   "source": [
    "# Configurando a conexão com o BigQuery usando a chave JSON\n",
    "key_path = r\"C:\\Users\\marcell.oliveira\\Desktop\\Chinook\\sincere-actor-393814-8209ed1b42a4.json\"\n",
    "credentials = service_account.Credentials.from_service_account_file(\n",
    "    key_path, scopes=[\"https://www.googleapis.com/auth/cloud-platform\"]\n",
    ")\n",
    "client = bigquery.Client(credentials=credentials, project=credentials.project_id)\n"
   ]
  },
  {
   "cell_type": "code",
   "execution_count": 74,
   "metadata": {},
   "outputs": [],
   "source": [
    "# Conectar ao banco de dados SQLite\n",
    "conexao = sqlite3.connect('Chinook_Sqlite.sqlite')"
   ]
  },
  {
   "cell_type": "code",
   "execution_count": 75,
   "metadata": {},
   "outputs": [
    {
     "data": {
      "text/html": [
       "<div>\n",
       "<style scoped>\n",
       "    .dataframe tbody tr th:only-of-type {\n",
       "        vertical-align: middle;\n",
       "    }\n",
       "\n",
       "    .dataframe tbody tr th {\n",
       "        vertical-align: top;\n",
       "    }\n",
       "\n",
       "    .dataframe thead th {\n",
       "        text-align: right;\n",
       "    }\n",
       "</style>\n",
       "<table border=\"1\" class=\"dataframe\">\n",
       "  <thead>\n",
       "    <tr style=\"text-align: right;\">\n",
       "      <th></th>\n",
       "      <th>name</th>\n",
       "    </tr>\n",
       "  </thead>\n",
       "  <tbody>\n",
       "    <tr>\n",
       "      <th>0</th>\n",
       "      <td>Album</td>\n",
       "    </tr>\n",
       "    <tr>\n",
       "      <th>1</th>\n",
       "      <td>Artist</td>\n",
       "    </tr>\n",
       "    <tr>\n",
       "      <th>2</th>\n",
       "      <td>Customer</td>\n",
       "    </tr>\n",
       "    <tr>\n",
       "      <th>3</th>\n",
       "      <td>Employee</td>\n",
       "    </tr>\n",
       "    <tr>\n",
       "      <th>4</th>\n",
       "      <td>Genre</td>\n",
       "    </tr>\n",
       "    <tr>\n",
       "      <th>5</th>\n",
       "      <td>Invoice</td>\n",
       "    </tr>\n",
       "    <tr>\n",
       "      <th>6</th>\n",
       "      <td>InvoiceLine</td>\n",
       "    </tr>\n",
       "    <tr>\n",
       "      <th>7</th>\n",
       "      <td>MediaType</td>\n",
       "    </tr>\n",
       "    <tr>\n",
       "      <th>8</th>\n",
       "      <td>Playlist</td>\n",
       "    </tr>\n",
       "    <tr>\n",
       "      <th>9</th>\n",
       "      <td>PlaylistTrack</td>\n",
       "    </tr>\n",
       "    <tr>\n",
       "      <th>10</th>\n",
       "      <td>Track</td>\n",
       "    </tr>\n",
       "  </tbody>\n",
       "</table>\n",
       "</div>"
      ],
      "text/plain": [
       "             name\n",
       "0           Album\n",
       "1          Artist\n",
       "2        Customer\n",
       "3        Employee\n",
       "4           Genre\n",
       "5         Invoice\n",
       "6     InvoiceLine\n",
       "7       MediaType\n",
       "8        Playlist\n",
       "9   PlaylistTrack\n",
       "10          Track"
      ]
     },
     "execution_count": 75,
     "metadata": {},
     "output_type": "execute_result"
    }
   ],
   "source": [
    "# Obter lista de tabelas no banco de dados\n",
    "tabelas = pd.read_sql_query(\"SELECT name FROM sqlite_master WHERE type='table';\", conexao)\n",
    "tabelas "
   ]
  },
  {
   "cell_type": "code",
   "execution_count": null,
   "metadata": {},
   "outputs": [],
   "source": [
    "# Nome do dataset no BigQuery\n",
    "dataset_id = \"camada_bronze\" "
   ]
  },
  {
   "cell_type": "code",
   "execution_count": null,
   "metadata": {},
   "outputs": [
    {
     "name": "stdout",
     "output_type": "stream",
     "text": [
      "Processando a tabela: Album\n",
      "Tabela Album carregada com sucesso no BigQuery.\n",
      "Processando a tabela: Artist\n",
      "Tabela Artist carregada com sucesso no BigQuery.\n",
      "Processando a tabela: Customer\n",
      "Tabela Customer carregada com sucesso no BigQuery.\n",
      "Processando a tabela: Employee\n",
      "Tabela Employee carregada com sucesso no BigQuery.\n",
      "Processando a tabela: Genre\n",
      "Tabela Genre carregada com sucesso no BigQuery.\n",
      "Processando a tabela: Invoice\n",
      "Tabela Invoice carregada com sucesso no BigQuery.\n",
      "Processando a tabela: InvoiceLine\n",
      "Tabela InvoiceLine carregada com sucesso no BigQuery.\n",
      "Processando a tabela: MediaType\n",
      "Tabela MediaType carregada com sucesso no BigQuery.\n",
      "Processando a tabela: Playlist\n",
      "Tabela Playlist carregada com sucesso no BigQuery.\n",
      "Processando a tabela: PlaylistTrack\n",
      "Tabela PlaylistTrack carregada com sucesso no BigQuery.\n",
      "Processando a tabela: Track\n",
      "Tabela Track carregada com sucesso no BigQuery.\n"
     ]
    }
   ],
   "source": [
    "# Loop para ler cada tabela e fazer o upload para o BigQuery\n",
    "for tabela in tabelas['name']:\n",
    "    print(f\"Processando a tabela: {tabela}\")\n",
    "    \n",
    "    # Ler a tabela do SQLite para um DataFrame\n",
    "    df = pd.read_sql_query(f\"SELECT * FROM {tabela};\", conexao)\n",
    "    \n",
    "    # Definir o ID da tabela no BigQuery (dataset_id.table_name)\n",
    "    tabela_id = f\"{dataset_id}.{tabela}\"\n",
    "    \n",
    "    # Configuração da tabela para o BigQuery\n",
    "    job_config = bigquery.LoadJobConfig(\n",
    "        write_disposition=\"WRITE_TRUNCATE\"  # Sobrescreve os dados da tabela se já existir\n",
    "    )\n",
    "    \n",
    "    # Fazer o upload do DataFrame para o BigQuery\n",
    "    job = client.load_table_from_dataframe(df, tabela_id, job_config=job_config)\n",
    "    job.result()  # Espera até que o job seja concluído\n",
    "    print(f\"Tabela {tabela} carregada com sucesso no BigQuery.\")"
   ]
  },
  {
   "cell_type": "code",
   "execution_count": 78,
   "metadata": {},
   "outputs": [],
   "source": [
    "# Fechar a conexão com o SQLite\n",
    "conexao.close()"
   ]
  }
 ],
 "metadata": {
  "kernelspec": {
   "display_name": "Python 3",
   "language": "python",
   "name": "python3"
  },
  "language_info": {
   "codemirror_mode": {
    "name": "ipython",
    "version": 3
   },
   "file_extension": ".py",
   "mimetype": "text/x-python",
   "name": "python",
   "nbconvert_exporter": "python",
   "pygments_lexer": "ipython3",
   "version": "3.12.7"
  }
 },
 "nbformat": 4,
 "nbformat_minor": 2
}
